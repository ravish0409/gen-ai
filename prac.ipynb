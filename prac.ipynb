{
 "cells": [
  {
   "cell_type": "code",
   "execution_count": 1,
   "metadata": {},
   "outputs": [],
   "source": [
    "\n",
    "import os\n",
    "from openai import OpenAI\n",
    "from dotenv import load_dotenv"
   ]
  },
  {
   "cell_type": "code",
   "execution_count": 2,
   "metadata": {},
   "outputs": [
    {
     "data": {
      "text/plain": [
       "True"
      ]
     },
     "execution_count": 2,
     "metadata": {},
     "output_type": "execute_result"
    }
   ],
   "source": [
    "load_dotenv()"
   ]
  },
  {
   "cell_type": "code",
   "execution_count": 3,
   "metadata": {},
   "outputs": [],
   "source": [
    "client = OpenAI(api_key=os.getenv(\"OPENAI_API_KEY\"))"
   ]
  },
  {
   "cell_type": "code",
   "execution_count": 4,
   "metadata": {},
   "outputs": [],
   "source": [
    "candidate_details=f'''\n",
    "my name is Ravish Kumar. \n",
    "I have completed my Bachelor of Computer Applications (BCA) from Jim Vasant Kunj, affiliated with GGSIPU. \n",
    "I got a decent GPA of 8.2 and ranked 513 on the entrance exam. Over the years, \n",
    "I've developed a strong skill set in Python, Git, Django, and the MERN stack. \n",
    "I am a critical and logical thinker, naturally drawn me towards coding and problem-solving. \n",
    "My hobbies include trading and watching movies, which help me stay analytical and creative.  \n",
    "I enjoy working on challenging projects that require innovative solutions and continuous learning.\"\n",
    "'''"
   ]
  },
  {
   "cell_type": "code",
   "execution_count": 29,
   "metadata": {},
   "outputs": [],
   "source": [
    "prompt=f'''please extract this information from the text and organize it into a JSON object:\n",
    "name \n",
    "collage\n",
    "skils: array[]\n",
    "\n",
    "this is the body of text to extract from:\n",
    "{candidate_details}\n",
    "'''"
   ]
  },
  {
   "cell_type": "code",
   "execution_count": 30,
   "metadata": {},
   "outputs": [
    {
     "data": {
      "text/plain": [
       "'{\\n  \"name\": \"Ravish Kumar\",\\n  \"college\": \"Jim Vasant Kunj, GGSIPU\",\\n  \"skills\": [\"Python\", \"Git\", \"Django\", \"MERN stack\"]\\n}'"
      ]
     },
     "execution_count": 30,
     "metadata": {},
     "output_type": "execute_result"
    }
   ],
   "source": [
    "response = client.chat.completions.create(\n",
    "    model=\"gpt-3.5-turbo\",\n",
    "    messages=[\n",
    "        {\"role\": \"user\", \"content\": prompt}\n",
    "    ]\n",
    ")\n",
    "response.choices[0].message.content\n"
   ]
  },
  {
   "cell_type": "code",
   "execution_count": 39,
   "metadata": {},
   "outputs": [
    {
     "name": "stdout",
     "output_type": "stream",
     "text": [
      "ChatCompletion(id='chatcmpl-A5SAtVUonT4zU46tw78lqwsJVyKTa', choices=[Choice(finish_reason='stop', index=0, logprobs=None, message=ChatCompletionMessage(content='{\\n  \"name\": \"Ravish Kumar\",\\n  \"college\": \"Jim Vasant Kunj, GGSIPU\",\\n  \"skills\": [\"Python\", \"Git\", \"Django\", \"MERN stack\"]\\n}', refusal=None, role='assistant', function_call=None, tool_calls=None))], created=1725863307, model='gpt-3.5-turbo-0125', object='chat.completion', service_tier=None, system_fingerprint=None, usage=CompletionUsage(completion_tokens=47, prompt_tokens=167, total_tokens=214))\n"
     ]
    }
   ],
   "source": [
    "print((response))"
   ]
  },
  {
   "cell_type": "code",
   "execution_count": 9,
   "metadata": {},
   "outputs": [],
   "source": [
    "import json"
   ]
  },
  {
   "cell_type": "code",
   "execution_count": 32,
   "metadata": {},
   "outputs": [],
   "source": [
    "m=json.loads(response.choices[0].message.content)"
   ]
  },
  {
   "cell_type": "code",
   "execution_count": 35,
   "metadata": {},
   "outputs": [
    {
     "data": {
      "text/plain": [
       "{'name': 'Ravish Kumar',\n",
       " 'college': 'Jim Vasant Kunj, GGSIPU',\n",
       " 'skills': ['Python', 'Git', 'Django', 'MERN stack']}"
      ]
     },
     "execution_count": 35,
     "metadata": {},
     "output_type": "execute_result"
    }
   ],
   "source": [
    "m"
   ]
  },
  {
   "cell_type": "code",
   "execution_count": 33,
   "metadata": {},
   "outputs": [
    {
     "data": {
      "text/plain": [
       "'Git'"
      ]
     },
     "execution_count": 33,
     "metadata": {},
     "output_type": "execute_result"
    }
   ],
   "source": [
    "m[\"skills\"][1]"
   ]
  },
  {
   "cell_type": "code",
   "execution_count": 34,
   "metadata": {},
   "outputs": [
    {
     "name": "stdout",
     "output_type": "stream",
     "text": [
      "Python\n",
      "Git\n",
      "Django\n",
      "MERN stack\n"
     ]
    }
   ],
   "source": [
    "for i in m['skills']:\n",
    "\n",
    "    print(i)"
   ]
  },
  {
   "cell_type": "code",
   "execution_count": 2,
   "metadata": {},
   "outputs": [],
   "source": [
    "import sqlite3"
   ]
  },
  {
   "cell_type": "code",
   "execution_count": 3,
   "metadata": {},
   "outputs": [],
   "source": [
    "conn = sqlite3.connect('interview.db')\n",
    "c = conn.cursor()"
   ]
  },
  {
   "cell_type": "code",
   "execution_count": 14,
   "metadata": {},
   "outputs": [],
   "source": [
    "c.execute(\"\"\"create table try(\n",
    "            name text,\n",
    "            age integer,\n",
    "            email text\n",
    "            \n",
    "            )\"\"\")"
   ]
  },
  {
   "cell_type": "code",
   "execution_count": 4,
   "metadata": {},
   "outputs": [
    {
     "data": {
      "text/plain": [
       "<sqlite3.Cursor at 0x1fc459bda40>"
      ]
     },
     "execution_count": 4,
     "metadata": {},
     "output_type": "execute_result"
    }
   ],
   "source": [
    "\n",
    "list=[(\"Alice\",30,\"alice@example.com\"),\n",
    "          (\"Bob\",20,\"bob@example.com\"),\n",
    "          (\"Mike\",35,\"mike@example.com\"),\n",
    "          (\"Emma\",22,\"emma@example.com\")]\n",
    "c.executemany('''\n",
    " insert into try(name,age,email ) values (?,?,?)''',list)"
   ]
  },
  {
   "cell_type": "code",
   "execution_count": 5,
   "metadata": {},
   "outputs": [],
   "source": [
    "m=c.execute(\"\"\"\n",
    "select * from try\n",
    "\n",
    "\"\"\")"
   ]
  },
  {
   "cell_type": "code",
   "execution_count": 6,
   "metadata": {},
   "outputs": [
    {
     "data": {
      "text/plain": [
       "[('Alice', 30, 'alice@example.com'),\n",
       " ('Bob', 20, 'bob@example.com'),\n",
       " ('Mike', 35, 'mike@example.com'),\n",
       " ('Emma', 22, 'emma@example.com')]"
      ]
     },
     "execution_count": 6,
     "metadata": {},
     "output_type": "execute_result"
    }
   ],
   "source": [
    "m.fetchall()"
   ]
  }
 ],
 "metadata": {
  "kernelspec": {
   "display_name": "Python 3",
   "language": "python",
   "name": "python3"
  },
  "language_info": {
   "codemirror_mode": {
    "name": "ipython",
    "version": 3
   },
   "file_extension": ".py",
   "mimetype": "text/x-python",
   "name": "python",
   "nbconvert_exporter": "python",
   "pygments_lexer": "ipython3",
   "version": "3.11.9"
  }
 },
 "nbformat": 4,
 "nbformat_minor": 2
}
