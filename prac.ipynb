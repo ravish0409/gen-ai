{
 "cells": [
  {
   "cell_type": "code",
   "execution_count": 258,
   "metadata": {},
   "outputs": [],
   "source": [
    "\n",
    "import os\n",
    "from openai import OpenAI\n",
    "from dotenv import load_dotenv\n",
    "\n",
    "import PyPDF2\n",
    "from docx import Document\n",
    "\n",
    "import json"
   ]
  },
  {
   "cell_type": "code",
   "execution_count": 259,
   "metadata": {},
   "outputs": [],
   "source": [
    "load_dotenv()\n",
    "client = OpenAI(api_key=os.getenv(\"OPENAI_API_KEY\"))"
   ]
  },
  {
   "cell_type": "code",
   "execution_count": 260,
   "metadata": {},
   "outputs": [],
   "source": [
    "\n",
    "def extract_text_from_pdf(pdf_file_path):\n",
    "    text = \"\"\n",
    "    try:\n",
    "        with open(pdf_file_path, 'rb') as file:\n",
    "            reader = PyPDF2.PdfReader(file)\n",
    "            for page_num in range(len(reader.pages)):\n",
    "                page = reader.pages[page_num]\n",
    "                text += page.extract_text()\n",
    "    except Exception as e:\n",
    "        print(f\"Error reading PDF file: {e}\")\n",
    "    return text\n",
    "\n",
    "def extract_text_from_docx(docx_file_path):\n",
    "    text = \"\"\n",
    "    try:\n",
    "        doc = Document(docx_file_path)\n",
    "        for para in doc.paragraphs:\n",
    "            text += para.text + \"\\n\"\n",
    "    except Exception as e:\n",
    "        print(f\"Error reading DOCX file: {e}\")\n",
    "    return text\n"
   ]
  },
  {
   "cell_type": "code",
   "execution_count": 158,
   "metadata": {},
   "outputs": [],
   "source": [
    "candidate_details=f'''\n",
    "my name is Ravish Kumar. \n",
    "I have completed my Bachelor of Computer Applications (BCA) from Jim Vasant Kunj, affiliated with GGSIPU. \n",
    "I got a decent GPA of 8.2 and ranked 513 on the entrance exam. Over the years, \n",
    "I've developed a strong skill set in Python, Git, Django, and the MERN stack. \n",
    "I am a critical and logical thinker, naturally drawn me towards coding and problem-solving. \n",
    "My hobbies include trading and watching movies, which help me stay analytical and creative.  \n",
    "I enjoy working on challenging projects that require innovative solutions and continuous learning.\"\n",
    "'''"
   ]
  },
  {
   "cell_type": "code",
   "execution_count": 261,
   "metadata": {},
   "outputs": [
    {
     "data": {
      "text/plain": [
       "('uploads/resume-bhargav', 'pdf')"
      ]
     },
     "execution_count": 261,
     "metadata": {},
     "output_type": "execute_result"
    }
   ],
   "source": [
    "\n",
    "name='uploads/resume-bhargav.pdf'\n",
    "p,n=name.split('.')\n",
    "# Example Usage:\n",
    "p,n"
   ]
  },
  {
   "cell_type": "code",
   "execution_count": 262,
   "metadata": {},
   "outputs": [],
   "source": [
    "if n=='pdf':\n",
    "    candidate_details = extract_text_from_pdf(name)\n",
    "\n",
    "else: \n",
    "    candidate_details = extract_text_from_docx(name)\n"
   ]
  },
  {
   "cell_type": "code",
   "execution_count": 263,
   "metadata": {},
   "outputs": [],
   "source": [
    "if n=='pdf':\n",
    "    candidate_details2 = extract_text_from_pdf(name)\n",
    "\n",
    "else: \n",
    "    candidate_details2 = extract_text_from_docx(name)"
   ]
  },
  {
   "cell_type": "code",
   "execution_count": 264,
   "metadata": {},
   "outputs": [
    {
     "data": {
      "text/plain": [
       "True"
      ]
     },
     "execution_count": 264,
     "metadata": {},
     "output_type": "execute_result"
    }
   ],
   "source": [
    "candidate_details==candidate_details2"
   ]
  },
  {
   "cell_type": "code",
   "execution_count": 266,
   "metadata": {},
   "outputs": [],
   "source": [
    "job_description='''We are looking for a highly motivated Data Analyst to join our dynamic team at datafactz. In this role, you will analyze large datasets to uncover insights, generate reports, and help drive strategic business decisions. You’ll collaborate closely with different teams to translate data into actionable recommendations.\n",
    "\n",
    "Key Responsibilities:\n",
    "\n",
    "Collect, clean, and analyze data to identify trends and patterns.\n",
    "Generate reports and dashboards using tools like Excel, SQL, and Power BI.\n",
    "Support decision-making by providing data-driven insights to various departments.\n",
    "Collaborate with cross-functional teams to improve processes and outcomes.\n",
    "Ensure data accuracy and integrity across all systems.\n",
    "Qualifications:\n",
    "\n",
    "Bachelor’s degree in a related field (e.g., Statistics, Economics, Computer Science).\n",
    "Strong proficiency in data analysis tools such as SQL, Excel, and visualization platforms (Power BI, Tableau).\n",
    "Analytical mindset with excellent attention to detail.\n",
    "Ability to present data findings clearly and concisely.\n",
    "Why Join Us? At datafactz, we value innovation, teamwork, and a data-driven approach to problem-solving. Join us to make an impact and grow your career in a supportive and fast-paced environment.'''"
   ]
  },
  {
   "cell_type": "code",
   "execution_count": 268,
   "metadata": {},
   "outputs": [],
   "source": [
    "prompt = f'''\n",
    "You are an AI assistant tasked with generating customized interview questions based on a candidate’s details and a job description.\n",
    "\n",
    "Context:\n",
    "\n",
    "Candidate Details: {candidate_details}\n",
    "Job Description: {job_description}\n",
    "Task: Create a list of up to 8 interview questions. The list should include the following predefined questions, tailored to the candidate’s details and job description, as well as any additional questions you deem relevant:\n",
    "\n",
    "What is your expected salary range?\n",
    "Can you share your date of birth?\n",
    "Do you have experience with [relevant skill from job posting]?\n",
    "What are your preferred work hours?\n",
    "Can you tell us about a challenging project you've worked on?\n",
    "Please ensure each question is customized based on the specific candidate and job requirements. Provide the final output as a numbered list of interview questions and Only list the questions as output, nothing else..\n",
    "\n",
    "'''\n"
   ]
  },
  {
   "cell_type": "code",
   "execution_count": 269,
   "metadata": {},
   "outputs": [
    {
     "data": {
      "text/plain": [
       "\"1. What is your expected salary range?\\n2. Can you share your date of birth?\\n3. Do you have experience with SQL and data visualization platforms like Power BI or Tableau?\\n4. What are your preferred work hours?\\n5. Can you tell us about a challenging project you've worked on, specifically related to your AWS DevOps or Django experience and how you tackled it?\\n6. How do you ensure data accuracy and integrity in your projects?\\n7. Given your proficiency in data structures and algorithms, how do you think this knowledge will aid you in data analysis tasks?\\n8. Can you walk us through your experience with using automation tools and how they have helped streamline your past projects?\""
      ]
     },
     "execution_count": 269,
     "metadata": {},
     "output_type": "execute_result"
    }
   ],
   "source": [
    "response = client.chat.completions.create(\n",
    "    model=\"gpt-4o\",\n",
    "    messages=[\n",
    "        {\"role\": \"user\", \"content\": prompt}\n",
    "    ]\n",
    ")\n",
    "response.choices[0].message.content\n"
   ]
  },
  {
   "cell_type": "code",
   "execution_count": 214,
   "metadata": {},
   "outputs": [
    {
     "name": "stdout",
     "output_type": "stream",
     "text": [
      "ChatCompletion(id='chatcmpl-A6I2GYSb98Ty3p6SXihzE2aeRv6oT', choices=[Choice(finish_reason='stop', index=0, logprobs=None, message=ChatCompletionMessage(content='Tailored Questions for Candidate Evaluation:\\n\\n1. Can you provide examples of how you have used your AWS DevOps and Django skills to streamline operations and enhance scalability in previous projects?\\n\\n2. How have you leveraged your expertise in data structure and algorithms to analyze large datasets and uncover insights in your previous work experience?\\n\\n3. Have you worked on any projects where you have collaborated with cross-functional teams to improve processes and outcomes? If so, can you share details of your role and contributions?\\n\\n4. How do you ensure data accuracy and integrity in your work, especially when working with different systems and tools like Excel, SQL, and Power BI?\\n\\n5. Can you walk us through a project where you have presented data findings clearly and concisely to help drive strategic business decisions?\\n\\n6. How do you stay updated with the latest trends and advancements in data analysis tools and technologies, such as SQL, Excel, and visualization platforms like Power BI and Tableau?\\n\\n7. Can you provide examples of how you have demonstrated flexibility and time management skills in your previous projects, especially when faced with challenging timelines or tasks?\\n\\n8. How do you approach communication with different teams and departments when providing data-driven insights and recommendations to support decision-making processes?\\n\\n9. What interests you the most about the role of a Data Analyst at datafactz, and how do you see yourself contributing to our innovative and data-driven approach to problem-solving?', refusal=None, role='assistant', function_call=None, tool_calls=None))], created=1726062660, model='gpt-3.5-turbo-0125', object='chat.completion', service_tier=None, system_fingerprint=None, usage=CompletionUsage(completion_tokens=283, prompt_tokens=904, total_tokens=1187))\n"
     ]
    }
   ],
   "source": [
    "print((response))"
   ]
  },
  {
   "cell_type": "code",
   "execution_count": 252,
   "metadata": {},
   "outputs": [
    {
     "ename": "JSONDecodeError",
     "evalue": "Extra data: line 1 column 2 (char 1)",
     "output_type": "error",
     "traceback": [
      "\u001b[1;31m---------------------------------------------------------------------------\u001b[0m",
      "\u001b[1;31mJSONDecodeError\u001b[0m                           Traceback (most recent call last)",
      "Cell \u001b[1;32mIn[252], line 1\u001b[0m\n\u001b[1;32m----> 1\u001b[0m m\u001b[38;5;241m=\u001b[39m\u001b[43mjson\u001b[49m\u001b[38;5;241;43m.\u001b[39;49m\u001b[43mloads\u001b[49m\u001b[43m(\u001b[49m\u001b[43mresponse\u001b[49m\u001b[38;5;241;43m.\u001b[39;49m\u001b[43mchoices\u001b[49m\u001b[43m[\u001b[49m\u001b[38;5;241;43m0\u001b[39;49m\u001b[43m]\u001b[49m\u001b[38;5;241;43m.\u001b[39;49m\u001b[43mmessage\u001b[49m\u001b[38;5;241;43m.\u001b[39;49m\u001b[43mcontent\u001b[49m\u001b[43m)\u001b[49m\n",
      "File \u001b[1;32mC:\\Program Files\\WindowsApps\\PythonSoftwareFoundation.Python.3.11_3.11.2544.0_x64__qbz5n2kfra8p0\\Lib\\json\\__init__.py:346\u001b[0m, in \u001b[0;36mloads\u001b[1;34m(s, cls, object_hook, parse_float, parse_int, parse_constant, object_pairs_hook, **kw)\u001b[0m\n\u001b[0;32m    341\u001b[0m     s \u001b[38;5;241m=\u001b[39m s\u001b[38;5;241m.\u001b[39mdecode(detect_encoding(s), \u001b[38;5;124m'\u001b[39m\u001b[38;5;124msurrogatepass\u001b[39m\u001b[38;5;124m'\u001b[39m)\n\u001b[0;32m    343\u001b[0m \u001b[38;5;28;01mif\u001b[39;00m (\u001b[38;5;28mcls\u001b[39m \u001b[38;5;129;01mis\u001b[39;00m \u001b[38;5;28;01mNone\u001b[39;00m \u001b[38;5;129;01mand\u001b[39;00m object_hook \u001b[38;5;129;01mis\u001b[39;00m \u001b[38;5;28;01mNone\u001b[39;00m \u001b[38;5;129;01mand\u001b[39;00m\n\u001b[0;32m    344\u001b[0m         parse_int \u001b[38;5;129;01mis\u001b[39;00m \u001b[38;5;28;01mNone\u001b[39;00m \u001b[38;5;129;01mand\u001b[39;00m parse_float \u001b[38;5;129;01mis\u001b[39;00m \u001b[38;5;28;01mNone\u001b[39;00m \u001b[38;5;129;01mand\u001b[39;00m\n\u001b[0;32m    345\u001b[0m         parse_constant \u001b[38;5;129;01mis\u001b[39;00m \u001b[38;5;28;01mNone\u001b[39;00m \u001b[38;5;129;01mand\u001b[39;00m object_pairs_hook \u001b[38;5;129;01mis\u001b[39;00m \u001b[38;5;28;01mNone\u001b[39;00m \u001b[38;5;129;01mand\u001b[39;00m \u001b[38;5;129;01mnot\u001b[39;00m kw):\n\u001b[1;32m--> 346\u001b[0m     \u001b[38;5;28;01mreturn\u001b[39;00m \u001b[43m_default_decoder\u001b[49m\u001b[38;5;241;43m.\u001b[39;49m\u001b[43mdecode\u001b[49m\u001b[43m(\u001b[49m\u001b[43ms\u001b[49m\u001b[43m)\u001b[49m\n\u001b[0;32m    347\u001b[0m \u001b[38;5;28;01mif\u001b[39;00m \u001b[38;5;28mcls\u001b[39m \u001b[38;5;129;01mis\u001b[39;00m \u001b[38;5;28;01mNone\u001b[39;00m:\n\u001b[0;32m    348\u001b[0m     \u001b[38;5;28mcls\u001b[39m \u001b[38;5;241m=\u001b[39m JSONDecoder\n",
      "File \u001b[1;32mC:\\Program Files\\WindowsApps\\PythonSoftwareFoundation.Python.3.11_3.11.2544.0_x64__qbz5n2kfra8p0\\Lib\\json\\decoder.py:340\u001b[0m, in \u001b[0;36mJSONDecoder.decode\u001b[1;34m(self, s, _w)\u001b[0m\n\u001b[0;32m    338\u001b[0m end \u001b[38;5;241m=\u001b[39m _w(s, end)\u001b[38;5;241m.\u001b[39mend()\n\u001b[0;32m    339\u001b[0m \u001b[38;5;28;01mif\u001b[39;00m end \u001b[38;5;241m!=\u001b[39m \u001b[38;5;28mlen\u001b[39m(s):\n\u001b[1;32m--> 340\u001b[0m     \u001b[38;5;28;01mraise\u001b[39;00m JSONDecodeError(\u001b[38;5;124m\"\u001b[39m\u001b[38;5;124mExtra data\u001b[39m\u001b[38;5;124m\"\u001b[39m, s, end)\n\u001b[0;32m    341\u001b[0m \u001b[38;5;28;01mreturn\u001b[39;00m obj\n",
      "\u001b[1;31mJSONDecodeError\u001b[0m: Extra data: line 1 column 2 (char 1)"
     ]
    }
   ],
   "source": [
    "m=json.loads(response.choices[0].message.content)"
   ]
  },
  {
   "cell_type": "code",
   "execution_count": 270,
   "metadata": {},
   "outputs": [],
   "source": [
    "m=response.choices[0].message.content"
   ]
  },
  {
   "cell_type": "code",
   "execution_count": 271,
   "metadata": {},
   "outputs": [
    {
     "data": {
      "text/plain": [
       "['1. What is your expected salary range?',\n",
       " '2. Can you share your date of birth?',\n",
       " '3. Do you have experience with SQL and data visualization platforms like Power BI or Tableau?',\n",
       " '4. What are your preferred work hours?',\n",
       " \"5. Can you tell us about a challenging project you've worked on, specifically related to your AWS DevOps or Django experience and how you tackled it?\",\n",
       " '6. How do you ensure data accuracy and integrity in your projects?',\n",
       " '7. Given your proficiency in data structures and algorithms, how do you think this knowledge will aid you in data analysis tasks?',\n",
       " '8. Can you walk us through your experience with using automation tools and how they have helped streamline your past projects?']"
      ]
     },
     "execution_count": 271,
     "metadata": {},
     "output_type": "execute_result"
    }
   ],
   "source": [
    "m.split('\\n')"
   ]
  },
  {
   "cell_type": "code",
   "execution_count": 193,
   "metadata": {},
   "outputs": [
    {
     "data": {
      "text/plain": [
       "'Today’s session by Pranav\\nToday, Pranav talked about his project called \"Speech Sense.\" He started by explaining why he built the project. He found it difficult to take notes during meetings and figure out the overall sentiment of the discussions. So, he wanted to create something that could automatically summarize the key points from a meeting and understand its sentiment.\\nPranav looked at platforms that offered similar services, but most of them were paid. So he decided he want to develop his own tool. His idea was to create an application that not only summarized meeting recordings but also let users ask specific questions about the meeting. To do this, he used advanced models like GPT and Whisper (a text-to-speech model).\\nFor the first version of his project, he used Streamlit to build the user interface and GPT-3.5 for processing language. However, he faced a few challenges. One issue was with the database, as he needed it to update user interactions in real-time. Streamlit also had a problem where the whole program would restart whenever a user interacted with the interface. To fix this, he used tabs, so only the section that the user was interacting with would reload.\\nPranav said this was just a basic version of his project, so he started working on a better one. He chose Firebase to store data because Streamlit had too many limitations at that time. But another problem came up: for people to use his application, his computer had to be on all the time since it was hosting the app. He realized he needed to deploy the application somewhere else.\\nHe decided to use AWS for this, but then found out that the AWS server could only be accessed from his office network. To fix this, he whitelisted certain IP addresses so he could access the app from anywhere, not just the office.\\nIn the end, Pranav’s journey with \"Speech Sense\" taught him a lot. He faced challenges with the user interface, databases, and deployment, but he kept improving the project step by step.\\n\\n'"
      ]
     },
     "execution_count": 193,
     "metadata": {},
     "output_type": "execute_result"
    }
   ],
   "source": [
    "candidate_details"
   ]
  },
  {
   "cell_type": "code",
   "execution_count": 151,
   "metadata": {},
   "outputs": [
    {
     "data": {
      "text/plain": [
       "{'ats': 65}"
      ]
     },
     "execution_count": 151,
     "metadata": {},
     "output_type": "execute_result"
    }
   ],
   "source": [
    "json.loads(m.replace(\"'\",'\"'))"
   ]
  },
  {
   "cell_type": "code",
   "execution_count": 80,
   "metadata": {},
   "outputs": [
    {
     "name": "stdout",
     "output_type": "stream",
     "text": [
      "Python\n",
      "SQL\n",
      "Data Analysis\n",
      "Data Visualization\n",
      "Software Development\n",
      "Blockchain\n",
      "Leadership & Training\n",
      "Process Improvement\n",
      "Team Incubation\n"
     ]
    }
   ],
   "source": [
    "for i in m['skills']:\n",
    "\n",
    "    print(i)"
   ]
  },
  {
   "cell_type": "code",
   "execution_count": 2,
   "metadata": {},
   "outputs": [],
   "source": [
    "import sqlite3"
   ]
  },
  {
   "cell_type": "code",
   "execution_count": 3,
   "metadata": {},
   "outputs": [],
   "source": [
    "conn = sqlite3.connect('interview.db')\n",
    "c = conn.cursor()"
   ]
  },
  {
   "cell_type": "code",
   "execution_count": 14,
   "metadata": {},
   "outputs": [],
   "source": [
    "c.execute(\"\"\"create table try(\n",
    "            name text,\n",
    "            age integer,\n",
    "            email text\n",
    "            \n",
    "            )\"\"\")"
   ]
  },
  {
   "cell_type": "code",
   "execution_count": 4,
   "metadata": {},
   "outputs": [
    {
     "data": {
      "text/plain": [
       "<sqlite3.Cursor at 0x1fc459bda40>"
      ]
     },
     "execution_count": 4,
     "metadata": {},
     "output_type": "execute_result"
    }
   ],
   "source": [
    "\n",
    "list=[(\"Alice\",30,\"alice@example.com\"),\n",
    "          (\"Bob\",20,\"bob@example.com\"),\n",
    "          (\"Mike\",35,\"mike@example.com\"),\n",
    "          (\"Emma\",22,\"emma@example.com\")]\n",
    "c.executemany('''\n",
    " insert into try(name,age,email ) values (?,?,?)''',list)"
   ]
  },
  {
   "cell_type": "code",
   "execution_count": 5,
   "metadata": {},
   "outputs": [],
   "source": [
    "m=c.execute(\"\"\"\n",
    "select * from try\n",
    "\n",
    "\"\"\")"
   ]
  },
  {
   "cell_type": "code",
   "execution_count": 6,
   "metadata": {},
   "outputs": [
    {
     "data": {
      "text/plain": [
       "[('Alice', 30, 'alice@example.com'),\n",
       " ('Bob', 20, 'bob@example.com'),\n",
       " ('Mike', 35, 'mike@example.com'),\n",
       " ('Emma', 22, 'emma@example.com')]"
      ]
     },
     "execution_count": 6,
     "metadata": {},
     "output_type": "execute_result"
    }
   ],
   "source": [
    "m.fetchall()"
   ]
  },
  {
   "cell_type": "code",
   "execution_count": 19,
   "metadata": {},
   "outputs": [],
   "source": [
    "ms=[{\"role\":\"system\",\"content\":\"What is your expected salary range?\"},{\"role\":\"user\",\"content\":\"10000000\"},{\"role\":\"system\",\"content\":\"Can you share your date of birth?\"},{\"role\":\"user\",\"content\":\"5 may\"},{\"role\":\"system\",\"content\":\"Do you have experience in [skill from job posting]?\"},{\"role\":\"user\",\"content\":\"no\"},{\"role\":\"system\",\"content\":\"What are your preferred work hours?\"},{\"role\":\"user\",\"content\":\"6\"},{\"role\":\"system\",\"content\":\"Can you tell us about a challenging project you've worked on?\"},{\"role\":\"user\",\"content\":\"no i will not\"}]"
   ]
  },
  {
   "cell_type": "code",
   "execution_count": 20,
   "metadata": {},
   "outputs": [
    {
     "data": {
      "text/plain": [
       "{'role': 'system', 'content': 'What is your expected salary range?'}"
      ]
     },
     "execution_count": 20,
     "metadata": {},
     "output_type": "execute_result"
    }
   ],
   "source": [
    "ms[0]"
   ]
  },
  {
   "cell_type": "code",
   "execution_count": 13,
   "metadata": {},
   "outputs": [
    {
     "ename": "NameError",
     "evalue": "name 'ms' is not defined",
     "output_type": "error",
     "traceback": [
      "\u001b[1;31m---------------------------------------------------------------------------\u001b[0m",
      "\u001b[1;31mNameError\u001b[0m                                 Traceback (most recent call last)",
      "Cell \u001b[1;32mIn[13], line 1\u001b[0m\n\u001b[1;32m----> 1\u001b[0m \u001b[38;5;28;01mfor\u001b[39;00m i \u001b[38;5;129;01min\u001b[39;00m \u001b[38;5;28mrange\u001b[39m(\u001b[38;5;241m0\u001b[39m,\u001b[38;5;28mlen\u001b[39m(\u001b[43mms\u001b[49m),\u001b[38;5;241m2\u001b[39m):\n\u001b[0;32m      2\u001b[0m     \u001b[38;5;28mprint\u001b[39m(\u001b[38;5;124mf\u001b[39m\u001b[38;5;124m\"\u001b[39m\u001b[38;5;124mquestion \u001b[39m\u001b[38;5;132;01m{\u001b[39;00m(i\u001b[38;5;241m/\u001b[39m\u001b[38;5;241m/\u001b[39m\u001b[38;5;241m2\u001b[39m)\u001b[38;5;241m+\u001b[39m\u001b[38;5;241m1\u001b[39m\u001b[38;5;132;01m}\u001b[39;00m\u001b[38;5;124m: \u001b[39m\u001b[38;5;132;01m{\u001b[39;00mms[i][\u001b[38;5;124m'\u001b[39m\u001b[38;5;124mcontent\u001b[39m\u001b[38;5;124m'\u001b[39m]\u001b[38;5;132;01m}\u001b[39;00m\u001b[38;5;130;01m\\n\u001b[39;00m\u001b[38;5;124mans: \u001b[39m\u001b[38;5;132;01m{\u001b[39;00mms[i\u001b[38;5;241m+\u001b[39m\u001b[38;5;241m1\u001b[39m][\u001b[38;5;124m'\u001b[39m\u001b[38;5;124mcontent\u001b[39m\u001b[38;5;124m'\u001b[39m]\u001b[38;5;132;01m}\u001b[39;00m\u001b[38;5;124m\"\u001b[39m)\n",
      "\u001b[1;31mNameError\u001b[0m: name 'ms' is not defined"
     ]
    }
   ],
   "source": [
    "for i in range(0,len(ms),2):\n",
    "    print(f\"question {(i//2)+1}: {ms[i]['content']}\\nans: {ms[i+1]['content']}\")\n"
   ]
  },
  {
   "cell_type": "code",
   "execution_count": null,
   "metadata": {},
   "outputs": [],
   "source": []
  }
 ],
 "metadata": {
  "kernelspec": {
   "display_name": "Python 3",
   "language": "python",
   "name": "python3"
  },
  "language_info": {
   "codemirror_mode": {
    "name": "ipython",
    "version": 3
   },
   "file_extension": ".py",
   "mimetype": "text/x-python",
   "name": "python",
   "nbconvert_exporter": "python",
   "pygments_lexer": "ipython3",
   "version": "3.11.9"
  }
 },
 "nbformat": 4,
 "nbformat_minor": 2
}
