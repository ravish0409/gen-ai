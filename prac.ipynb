{
 "cells": [
  {
   "cell_type": "code",
   "execution_count": 2,
   "metadata": {},
   "outputs": [],
   "source": [
    "\n",
    "import os\n",
    "from openai import OpenAI\n",
    "from dotenv import load_dotenv\n",
    "\n",
    "import PyPDF2\n",
    "from docx import Document\n",
    "\n",
    "import json"
   ]
  },
  {
   "cell_type": "code",
   "execution_count": 3,
   "metadata": {},
   "outputs": [],
   "source": [
    "load_dotenv()\n",
    "client = OpenAI(api_key=os.getenv(\"OPENAI_API_KEY\"))"
   ]
  },
  {
   "cell_type": "code",
   "execution_count": 7,
   "metadata": {},
   "outputs": [],
   "source": [
    "\n",
    "def extract_text_from_pdf(pdf_file_path):\n",
    "    text = \"\"\n",
    "    try:\n",
    "        with open(pdf_file_path, 'rb') as file:\n",
    "            reader = PyPDF2.PdfReader(file)\n",
    "            for page_num in range(len(reader.pages)):\n",
    "                page = reader.pages[page_num]\n",
    "                text += page.extract_text()\n",
    "    except Exception as e:\n",
    "        print(f\"Error reading PDF file: {e}\")\n",
    "    return text\n",
    "\n",
    "def extract_text_from_docx(docx_file_path):\n",
    "    text = \"\"\n",
    "    try:\n",
    "        doc = Document(docx_file_path)\n",
    "        for para in doc.paragraphs:\n",
    "            text += para.text + \"\\n\"\n",
    "    except Exception as e:\n",
    "        print(f\"Error reading DOCX file: {e}\")\n",
    "    return text\n"
   ]
  },
  {
   "cell_type": "code",
   "execution_count": 22,
   "metadata": {},
   "outputs": [],
   "source": [
    "candidate_details=f'''\n",
    "my name is Ravish Kumar. \n",
    "I have completed my Bachelor of Computer Applications (BCA) from Jim Vasant Kunj, affiliated with GGSIPU. \n",
    "I got a decent GPA of 8.2 and ranked 513 on the entrance exam. Over the years, \n",
    "I've developed a strong skill set in Python, Git, Django, and the MERN stack. \n",
    "I am a critical and logical thinker, naturally drawn me towards coding and problem-solving. \n",
    "My hobbies include trading and watching movies, which help me stay analytical and creative.  \n",
    "I enjoy working on challenging projects that require innovative solutions and continuous learning.\"\n",
    "'''"
   ]
  },
  {
   "cell_type": "code",
   "execution_count": 34,
   "metadata": {},
   "outputs": [
    {
     "data": {
      "text/plain": [
       "('uploads/Resume-rakesh', 'pdf')"
      ]
     },
     "execution_count": 34,
     "metadata": {},
     "output_type": "execute_result"
    }
   ],
   "source": [
    "\n",
    "name='uploads/Resume-rakesh.pdf'\n",
    "p,n=name.split('.')\n",
    "# Example Usage:\n",
    "p,n"
   ]
  },
  {
   "cell_type": "code",
   "execution_count": 35,
   "metadata": {},
   "outputs": [],
   "source": [
    "if n=='pdf':\n",
    "    candidate_details = extract_text_from_pdf(name)\n",
    "\n",
    "else: \n",
    "    candidate_details = extract_text_from_docx(name)\n"
   ]
  },
  {
   "cell_type": "code",
   "execution_count": 36,
   "metadata": {},
   "outputs": [],
   "source": [
    "if n=='pdf':\n",
    "    candidate_details2 = extract_text_from_pdf(name)\n",
    "\n",
    "else: \n",
    "    candidate_details2 = extract_text_from_docx(name)"
   ]
  },
  {
   "cell_type": "code",
   "execution_count": 37,
   "metadata": {},
   "outputs": [
    {
     "data": {
      "text/plain": [
       "True"
      ]
     },
     "execution_count": 37,
     "metadata": {},
     "output_type": "execute_result"
    }
   ],
   "source": [
    "candidate_details==candidate_details2"
   ]
  },
  {
   "cell_type": "code",
   "execution_count": 38,
   "metadata": {},
   "outputs": [],
   "source": [
    "\n",
    "name='uploads/job.docx'\n",
    "p,n=name.split('.')\n",
    "# Example Usage:\n",
    "if n=='pdf':\n",
    "    job_description = extract_text_from_pdf(name)\n",
    "\n",
    "else: \n",
    "    job_description = extract_text_from_docx(name)\n"
   ]
  },
  {
   "cell_type": "code",
   "execution_count": 24,
   "metadata": {},
   "outputs": [],
   "source": [
    "job_description='''We are looking for a highly motivated Data Analyst to join our dynamic team at datafactz. In this role, you will analyze large datasets to uncover insights, generate reports, and help drive strategic business decisions. You’ll collaborate closely with different teams to translate data into actionable recommendations.\n",
    "\n",
    "Key Responsibilities:\n",
    "\n",
    "Collect, clean, and analyze data to identify trends and patterns.\n",
    "Generate reports and dashboards using tools like Excel, SQL, and Power BI.\n",
    "Support decision-making by providing data-driven insights to various departments.\n",
    "Collaborate with cross-functional teams to improve processes and outcomes.\n",
    "Ensure data accuracy and integrity across all systems.\n",
    "Qualifications:\n",
    "\n",
    "Bachelor’s degree in a related field (e.g., Statistics, Economics, Computer Science).\n",
    "Strong proficiency in data analysis tools such as SQL, Excel, and visualization platforms (Power BI, Tableau).\n",
    "Analytical mindset with excellent attention to detail.\n",
    "Ability to present data findings clearly and concisely.\n",
    "Why Join Us? At datafactz, we value innovation, teamwork, and a data-driven approach to problem-solving. Join us to make an impact and grow your career in a supportive and fast-paced environment.'''"
   ]
  },
  {
   "cell_type": "code",
   "execution_count": 39,
   "metadata": {},
   "outputs": [],
   "source": [
    "prompt = f'''\n",
    "You are an AI assistant tasked with generating customized interview questions based on a candidate’s details and a job description.\n",
    "\n",
    "Context:\n",
    "\n",
    "Candidate Details: {candidate_details}\n",
    "Job Description: {job_description}\n",
    "Task: Create a list of up to 8 interview questions. The list should include the following predefined questions, tailored to the candidate’s details and job description, as well as any additional questions you deem relevant:\n",
    "\n",
    "What is your expected salary range?\n",
    "Can you share your date of birth?\n",
    "Do you have experience with [relevant skill from job posting]?\n",
    "What are your preferred work hours?\n",
    "Can you tell us about a challenging project you've worked on?\n",
    "Please ensure each question is customized based on the specific candidate and job requirements. Provide the final output as a numbered list of interview questions and Only list the questions as output, nothing else..\n",
    "\n",
    "'''\n"
   ]
  },
  {
   "cell_type": "code",
   "execution_count": 40,
   "metadata": {},
   "outputs": [
    {
     "data": {
      "text/plain": [
       "\"1. What is your expected salary range?\\n2. Can you share your date of birth?\\n3. Do you have experience with Django or Flask web frameworks?\\n4. What are your preferred work hours?\\n5. Can you tell us about a challenging data analysis project you've worked on and how you managed it?\\n6. How do you approach optimizing data accuracy and processing efficiency in your work?\\n7. Can you describe a situation where you implemented a blockchain solution for secure and transparent data management?\\n8. How do you plan to utilize your ongoing education in AI and Machine Learning in the context of our Full Stack Developer role?\""
      ]
     },
     "execution_count": 40,
     "metadata": {},
     "output_type": "execute_result"
    }
   ],
   "source": [
    "response = client.chat.completions.create(\n",
    "    model=\"gpt-4o\",\n",
    "    messages=[\n",
    "        {\"role\": \"user\", \"content\": prompt}\n",
    "    ]\n",
    ")\n",
    "response.choices[0].message.content\n"
   ]
  },
  {
   "cell_type": "code",
   "execution_count": 16,
   "metadata": {},
   "outputs": [
    {
     "name": "stdout",
     "output_type": "stream",
     "text": [
      "ChatCompletion(id='chatcmpl-A6tt418179cUV6ZCaehbNTOxNva2U', choices=[Choice(finish_reason='stop', index=0, logprobs=None, message=ChatCompletionMessage(content='1. What is your expected salary range?\\n2. Can you share your date of birth?\\n3. Do you have experience with data visualization tools like Power BI or Tableau?\\n4. What are your preferred work hours?\\n5. Can you tell us about a challenging project you\\'ve worked on, such as \"Speech Sense,\" and how you overcame obstacles?\\n6. How did you ensure data accuracy and integrity in your \"Speech Sense\" project?\\n7. Can you detail your experience using SQL for data analysis?\\n8. How do you approach translating data findings into actionable recommendations for non-technical stakeholders?', refusal=None, role='assistant', function_call=None, tool_calls=None))], created=1726208162, model='gpt-4o-2024-05-13', object='chat.completion', service_tier=None, system_fingerprint='fp_25624ae3a5', usage=CompletionUsage(completion_tokens=119, prompt_tokens=822, total_tokens=941, completion_tokens_details={'reasoning_tokens': 0}))\n"
     ]
    }
   ],
   "source": [
    "print((response))"
   ]
  },
  {
   "cell_type": "code",
   "execution_count": 252,
   "metadata": {},
   "outputs": [
    {
     "ename": "JSONDecodeError",
     "evalue": "Extra data: line 1 column 2 (char 1)",
     "output_type": "error",
     "traceback": [
      "\u001b[1;31m---------------------------------------------------------------------------\u001b[0m",
      "\u001b[1;31mJSONDecodeError\u001b[0m                           Traceback (most recent call last)",
      "Cell \u001b[1;32mIn[252], line 1\u001b[0m\n\u001b[1;32m----> 1\u001b[0m m\u001b[38;5;241m=\u001b[39m\u001b[43mjson\u001b[49m\u001b[38;5;241;43m.\u001b[39;49m\u001b[43mloads\u001b[49m\u001b[43m(\u001b[49m\u001b[43mresponse\u001b[49m\u001b[38;5;241;43m.\u001b[39;49m\u001b[43mchoices\u001b[49m\u001b[43m[\u001b[49m\u001b[38;5;241;43m0\u001b[39;49m\u001b[43m]\u001b[49m\u001b[38;5;241;43m.\u001b[39;49m\u001b[43mmessage\u001b[49m\u001b[38;5;241;43m.\u001b[39;49m\u001b[43mcontent\u001b[49m\u001b[43m)\u001b[49m\n",
      "File \u001b[1;32mC:\\Program Files\\WindowsApps\\PythonSoftwareFoundation.Python.3.11_3.11.2544.0_x64__qbz5n2kfra8p0\\Lib\\json\\__init__.py:346\u001b[0m, in \u001b[0;36mloads\u001b[1;34m(s, cls, object_hook, parse_float, parse_int, parse_constant, object_pairs_hook, **kw)\u001b[0m\n\u001b[0;32m    341\u001b[0m     s \u001b[38;5;241m=\u001b[39m s\u001b[38;5;241m.\u001b[39mdecode(detect_encoding(s), \u001b[38;5;124m'\u001b[39m\u001b[38;5;124msurrogatepass\u001b[39m\u001b[38;5;124m'\u001b[39m)\n\u001b[0;32m    343\u001b[0m \u001b[38;5;28;01mif\u001b[39;00m (\u001b[38;5;28mcls\u001b[39m \u001b[38;5;129;01mis\u001b[39;00m \u001b[38;5;28;01mNone\u001b[39;00m \u001b[38;5;129;01mand\u001b[39;00m object_hook \u001b[38;5;129;01mis\u001b[39;00m \u001b[38;5;28;01mNone\u001b[39;00m \u001b[38;5;129;01mand\u001b[39;00m\n\u001b[0;32m    344\u001b[0m         parse_int \u001b[38;5;129;01mis\u001b[39;00m \u001b[38;5;28;01mNone\u001b[39;00m \u001b[38;5;129;01mand\u001b[39;00m parse_float \u001b[38;5;129;01mis\u001b[39;00m \u001b[38;5;28;01mNone\u001b[39;00m \u001b[38;5;129;01mand\u001b[39;00m\n\u001b[0;32m    345\u001b[0m         parse_constant \u001b[38;5;129;01mis\u001b[39;00m \u001b[38;5;28;01mNone\u001b[39;00m \u001b[38;5;129;01mand\u001b[39;00m object_pairs_hook \u001b[38;5;129;01mis\u001b[39;00m \u001b[38;5;28;01mNone\u001b[39;00m \u001b[38;5;129;01mand\u001b[39;00m \u001b[38;5;129;01mnot\u001b[39;00m kw):\n\u001b[1;32m--> 346\u001b[0m     \u001b[38;5;28;01mreturn\u001b[39;00m \u001b[43m_default_decoder\u001b[49m\u001b[38;5;241;43m.\u001b[39;49m\u001b[43mdecode\u001b[49m\u001b[43m(\u001b[49m\u001b[43ms\u001b[49m\u001b[43m)\u001b[49m\n\u001b[0;32m    347\u001b[0m \u001b[38;5;28;01mif\u001b[39;00m \u001b[38;5;28mcls\u001b[39m \u001b[38;5;129;01mis\u001b[39;00m \u001b[38;5;28;01mNone\u001b[39;00m:\n\u001b[0;32m    348\u001b[0m     \u001b[38;5;28mcls\u001b[39m \u001b[38;5;241m=\u001b[39m JSONDecoder\n",
      "File \u001b[1;32mC:\\Program Files\\WindowsApps\\PythonSoftwareFoundation.Python.3.11_3.11.2544.0_x64__qbz5n2kfra8p0\\Lib\\json\\decoder.py:340\u001b[0m, in \u001b[0;36mJSONDecoder.decode\u001b[1;34m(self, s, _w)\u001b[0m\n\u001b[0;32m    338\u001b[0m end \u001b[38;5;241m=\u001b[39m _w(s, end)\u001b[38;5;241m.\u001b[39mend()\n\u001b[0;32m    339\u001b[0m \u001b[38;5;28;01mif\u001b[39;00m end \u001b[38;5;241m!=\u001b[39m \u001b[38;5;28mlen\u001b[39m(s):\n\u001b[1;32m--> 340\u001b[0m     \u001b[38;5;28;01mraise\u001b[39;00m JSONDecodeError(\u001b[38;5;124m\"\u001b[39m\u001b[38;5;124mExtra data\u001b[39m\u001b[38;5;124m\"\u001b[39m, s, end)\n\u001b[0;32m    341\u001b[0m \u001b[38;5;28;01mreturn\u001b[39;00m obj\n",
      "\u001b[1;31mJSONDecodeError\u001b[0m: Extra data: line 1 column 2 (char 1)"
     ]
    }
   ],
   "source": [
    "m=json.loads(response.choices[0].message.content)"
   ]
  },
  {
   "cell_type": "code",
   "execution_count": 41,
   "metadata": {},
   "outputs": [],
   "source": [
    "m=response.choices[0].message.content"
   ]
  },
  {
   "cell_type": "code",
   "execution_count": 42,
   "metadata": {},
   "outputs": [
    {
     "data": {
      "text/plain": [
       "['1. What is your expected salary range?',\n",
       " '2. Can you share your date of birth?',\n",
       " '3. Do you have experience with Django or Flask web frameworks?',\n",
       " '4. What are your preferred work hours?',\n",
       " \"5. Can you tell us about a challenging data analysis project you've worked on and how you managed it?\",\n",
       " '6. How do you approach optimizing data accuracy and processing efficiency in your work?',\n",
       " '7. Can you describe a situation where you implemented a blockchain solution for secure and transparent data management?',\n",
       " '8. How do you plan to utilize your ongoing education in AI and Machine Learning in the context of our Full Stack Developer role?']"
      ]
     },
     "execution_count": 42,
     "metadata": {},
     "output_type": "execute_result"
    }
   ],
   "source": [
    "m.split('\\n')"
   ]
  },
  {
   "cell_type": "code",
   "execution_count": 193,
   "metadata": {},
   "outputs": [
    {
     "data": {
      "text/plain": [
       "'Today’s session by Pranav\\nToday, Pranav talked about his project called \"Speech Sense.\" He started by explaining why he built the project. He found it difficult to take notes during meetings and figure out the overall sentiment of the discussions. So, he wanted to create something that could automatically summarize the key points from a meeting and understand its sentiment.\\nPranav looked at platforms that offered similar services, but most of them were paid. So he decided he want to develop his own tool. His idea was to create an application that not only summarized meeting recordings but also let users ask specific questions about the meeting. To do this, he used advanced models like GPT and Whisper (a text-to-speech model).\\nFor the first version of his project, he used Streamlit to build the user interface and GPT-3.5 for processing language. However, he faced a few challenges. One issue was with the database, as he needed it to update user interactions in real-time. Streamlit also had a problem where the whole program would restart whenever a user interacted with the interface. To fix this, he used tabs, so only the section that the user was interacting with would reload.\\nPranav said this was just a basic version of his project, so he started working on a better one. He chose Firebase to store data because Streamlit had too many limitations at that time. But another problem came up: for people to use his application, his computer had to be on all the time since it was hosting the app. He realized he needed to deploy the application somewhere else.\\nHe decided to use AWS for this, but then found out that the AWS server could only be accessed from his office network. To fix this, he whitelisted certain IP addresses so he could access the app from anywhere, not just the office.\\nIn the end, Pranav’s journey with \"Speech Sense\" taught him a lot. He faced challenges with the user interface, databases, and deployment, but he kept improving the project step by step.\\n\\n'"
      ]
     },
     "execution_count": 193,
     "metadata": {},
     "output_type": "execute_result"
    }
   ],
   "source": [
    "candidate_details"
   ]
  },
  {
   "cell_type": "code",
   "execution_count": 151,
   "metadata": {},
   "outputs": [
    {
     "data": {
      "text/plain": [
       "{'ats': 65}"
      ]
     },
     "execution_count": 151,
     "metadata": {},
     "output_type": "execute_result"
    }
   ],
   "source": [
    "json.loads(m.replace(\"'\",'\"'))"
   ]
  },
  {
   "cell_type": "code",
   "execution_count": 80,
   "metadata": {},
   "outputs": [
    {
     "name": "stdout",
     "output_type": "stream",
     "text": [
      "Python\n",
      "SQL\n",
      "Data Analysis\n",
      "Data Visualization\n",
      "Software Development\n",
      "Blockchain\n",
      "Leadership & Training\n",
      "Process Improvement\n",
      "Team Incubation\n"
     ]
    }
   ],
   "source": [
    "for i in m['skills']:\n",
    "\n",
    "    print(i)"
   ]
  },
  {
   "cell_type": "code",
   "execution_count": 2,
   "metadata": {},
   "outputs": [],
   "source": [
    "import sqlite3"
   ]
  },
  {
   "cell_type": "code",
   "execution_count": 3,
   "metadata": {},
   "outputs": [],
   "source": [
    "conn = sqlite3.connect('interview.db')\n",
    "c = conn.cursor()"
   ]
  },
  {
   "cell_type": "code",
   "execution_count": 14,
   "metadata": {},
   "outputs": [],
   "source": [
    "c.execute(\"\"\"create table try(\n",
    "            name text,\n",
    "            age integer,\n",
    "            email text\n",
    "            \n",
    "            )\"\"\")"
   ]
  },
  {
   "cell_type": "code",
   "execution_count": 4,
   "metadata": {},
   "outputs": [
    {
     "data": {
      "text/plain": [
       "<sqlite3.Cursor at 0x1fc459bda40>"
      ]
     },
     "execution_count": 4,
     "metadata": {},
     "output_type": "execute_result"
    }
   ],
   "source": [
    "\n",
    "list=[(\"Alice\",30,\"alice@example.com\"),\n",
    "          (\"Bob\",20,\"bob@example.com\"),\n",
    "          (\"Mike\",35,\"mike@example.com\"),\n",
    "          (\"Emma\",22,\"emma@example.com\")]\n",
    "c.executemany('''\n",
    " insert into try(name,age,email ) values (?,?,?)''',list)"
   ]
  },
  {
   "cell_type": "code",
   "execution_count": 5,
   "metadata": {},
   "outputs": [],
   "source": [
    "m=c.execute(\"\"\"\n",
    "select * from try\n",
    "\n",
    "\"\"\")"
   ]
  },
  {
   "cell_type": "code",
   "execution_count": 6,
   "metadata": {},
   "outputs": [
    {
     "data": {
      "text/plain": [
       "[('Alice', 30, 'alice@example.com'),\n",
       " ('Bob', 20, 'bob@example.com'),\n",
       " ('Mike', 35, 'mike@example.com'),\n",
       " ('Emma', 22, 'emma@example.com')]"
      ]
     },
     "execution_count": 6,
     "metadata": {},
     "output_type": "execute_result"
    }
   ],
   "source": [
    "m.fetchall()"
   ]
  },
  {
   "cell_type": "code",
   "execution_count": 19,
   "metadata": {},
   "outputs": [],
   "source": [
    "ms=[{\"role\":\"system\",\"content\":\"What is your expected salary range?\"},{\"role\":\"user\",\"content\":\"10000000\"},{\"role\":\"system\",\"content\":\"Can you share your date of birth?\"},{\"role\":\"user\",\"content\":\"5 may\"},{\"role\":\"system\",\"content\":\"Do you have experience in [skill from job posting]?\"},{\"role\":\"user\",\"content\":\"no\"},{\"role\":\"system\",\"content\":\"What are your preferred work hours?\"},{\"role\":\"user\",\"content\":\"6\"},{\"role\":\"system\",\"content\":\"Can you tell us about a challenging project you've worked on?\"},{\"role\":\"user\",\"content\":\"no i will not\"}]"
   ]
  },
  {
   "cell_type": "code",
   "execution_count": 20,
   "metadata": {},
   "outputs": [
    {
     "data": {
      "text/plain": [
       "{'role': 'system', 'content': 'What is your expected salary range?'}"
      ]
     },
     "execution_count": 20,
     "metadata": {},
     "output_type": "execute_result"
    }
   ],
   "source": [
    "ms[0]"
   ]
  },
  {
   "cell_type": "code",
   "execution_count": 13,
   "metadata": {},
   "outputs": [
    {
     "ename": "NameError",
     "evalue": "name 'ms' is not defined",
     "output_type": "error",
     "traceback": [
      "\u001b[1;31m---------------------------------------------------------------------------\u001b[0m",
      "\u001b[1;31mNameError\u001b[0m                                 Traceback (most recent call last)",
      "Cell \u001b[1;32mIn[13], line 1\u001b[0m\n\u001b[1;32m----> 1\u001b[0m \u001b[38;5;28;01mfor\u001b[39;00m i \u001b[38;5;129;01min\u001b[39;00m \u001b[38;5;28mrange\u001b[39m(\u001b[38;5;241m0\u001b[39m,\u001b[38;5;28mlen\u001b[39m(\u001b[43mms\u001b[49m),\u001b[38;5;241m2\u001b[39m):\n\u001b[0;32m      2\u001b[0m     \u001b[38;5;28mprint\u001b[39m(\u001b[38;5;124mf\u001b[39m\u001b[38;5;124m\"\u001b[39m\u001b[38;5;124mquestion \u001b[39m\u001b[38;5;132;01m{\u001b[39;00m(i\u001b[38;5;241m/\u001b[39m\u001b[38;5;241m/\u001b[39m\u001b[38;5;241m2\u001b[39m)\u001b[38;5;241m+\u001b[39m\u001b[38;5;241m1\u001b[39m\u001b[38;5;132;01m}\u001b[39;00m\u001b[38;5;124m: \u001b[39m\u001b[38;5;132;01m{\u001b[39;00mms[i][\u001b[38;5;124m'\u001b[39m\u001b[38;5;124mcontent\u001b[39m\u001b[38;5;124m'\u001b[39m]\u001b[38;5;132;01m}\u001b[39;00m\u001b[38;5;130;01m\\n\u001b[39;00m\u001b[38;5;124mans: \u001b[39m\u001b[38;5;132;01m{\u001b[39;00mms[i\u001b[38;5;241m+\u001b[39m\u001b[38;5;241m1\u001b[39m][\u001b[38;5;124m'\u001b[39m\u001b[38;5;124mcontent\u001b[39m\u001b[38;5;124m'\u001b[39m]\u001b[38;5;132;01m}\u001b[39;00m\u001b[38;5;124m\"\u001b[39m)\n",
      "\u001b[1;31mNameError\u001b[0m: name 'ms' is not defined"
     ]
    }
   ],
   "source": [
    "for i in range(0,len(ms),2):\n",
    "    print(f\"question {(i//2)+1}: {ms[i]['content']}\\nans: {ms[i+1]['content']}\")\n"
   ]
  },
  {
   "cell_type": "code",
   "execution_count": 1,
   "metadata": {},
   "outputs": [],
   "source": [
    "from apicall import get_questions\n",
    "from apicall import get_score\n",
    "\n"
   ]
  },
  {
   "cell_type": "code",
   "execution_count": 13,
   "metadata": {},
   "outputs": [],
   "source": [
    "\n",
    "job='uploads/job.docx'\n",
    "resume='uploads/ravish_resume.pdf'\n",
    "m=get_questions(job,resume)"
   ]
  },
  {
   "cell_type": "code",
   "execution_count": 14,
   "metadata": {},
   "outputs": [
    {
     "data": {
      "text/plain": [
       "['1. What is your expected salary range?',\n",
       " '2. Can you share your date of birth?',\n",
       " '3. Do you have experience with Django and Flask web frameworks?',\n",
       " '4. What are your preferred work hours?',\n",
       " \"5. Can you tell us about a challenging project you've worked on, such as the Ease Journey website or the Recruitment Portal?\",\n",
       " '6. How do you ensure clarity in OOP fundamentals and Data Structures in your projects?',\n",
       " '7. Can you describe your experience with RDBMS, specifically MySQL and MongoDB?',\n",
       " '8. How do you approach troubleshooting issues and collaborating with a technical team to develop new features?']"
      ]
     },
     "execution_count": 14,
     "metadata": {},
     "output_type": "execute_result"
    }
   ],
   "source": [
    "m"
   ]
  },
  {
   "cell_type": "code",
   "execution_count": 2,
   "metadata": {},
   "outputs": [],
   "source": [
    "convo='''Q1. What is your expected salary range?\n",
    "Answer: 1 lakh\n",
    "Q2. Can you share your date of birth?\n",
    "Answer: 4 May\n",
    "Q3. Do you have experience with Django and other Python web frameworks like Flask?\n",
    "Answer: no\n",
    "Q4. What are your preferred work hours?\n",
    "Answer: 8\n",
    "Q5. Can you tell us about a challenging project you've worked on, such as the \"Ease Journey\" website or the recruitment portal?\n",
    "Answer: yes\n",
    "Q6. How do you ensure clarity in OOP fundamentals and Data Structures in your projects?\n",
    "Answer: lklk\n",
    "Q7. Can you describe your experience with RDBMS, specifically MySQL and MongoDB?\n",
    "Answer: a\n",
    "Q8. How do you approach leading a project and distributing work among your technical team?\n",
    "Answer: jfk'''"
   ]
  },
  {
   "cell_type": "code",
   "execution_count": 6,
   "metadata": {},
   "outputs": [],
   "source": [
    "convo='''Q1. What is your expected salary range?\n",
    "Answer: 1 lakh\n",
    "Q2. Can you share your date of birth?\n",
    "Answer: 4 May\n",
    "Q3. Do you have experience with Django and other Python web frameworks like Flask?\n",
    "Answer: Yes, I have extensive experience with Django, having developed projects like a recruitment portal and legal advisory website. While I’ve primarily worked with Django, I'm also familiar with Flask and its use in Python web development.\n",
    "Q4. What are your preferred work hours?\n",
    "Answer: 8 h\n",
    "Q5. Can you tell us about a challenging project you've worked on, such as the Chatbot or Recruitment Portal, and how you handled it?\n",
    "Answer: I developed a Python GUI chatbot using Tkinter for instant job-related queries and FAQs. The challenge was integrating real-time responses and creating a user-friendly interface. I handled it by using multi-threading to improve response times and ensuring the bot could manage multiple queries efficiently.\n",
    "Q6. How proficient are you in Data Structures like List, Dict, Set, Strings, and using Lambda expressions in Python?\n",
    "Answer: I'm highly proficient with Python data structures like Lists, Dicts, Sets, and Strings. I frequently use them in projects for efficient data handling. I'm also comfortable using lambda expressions, particularly in situations where concise anonymous functions improve code readability and performance.\n",
    "Q7. Can you describe your experience with RDBMS, specifically MySQL, and how you've utilized it in your projects?\n",
    "Answer: I have experience with MySQL, primarily using it in my MERN stack travel website project. I utilized MySQL to manage user data, product listings, and transaction records. I implemented complex queries for filtering and joining tables to provide efficient data retrieval for the platform.\n",
    "Q8. How do you approach leading technical projects, particularly in distributing work and meeting project timelines?\n",
    "Answer: In leading technical projects, I focus on clear task division based on team members' strengths. I ensure regular communication through progress check-ins and allocate time for testing and debugging. Prioritizing tasks and setting achievable deadlines helps the team stay on track and meet project timelines effectively.'''"
   ]
  },
  {
   "cell_type": "code",
   "execution_count": 7,
   "metadata": {},
   "outputs": [],
   "source": [
    "job='uploads/job.docx'\n",
    "m=get_score(job,convo)"
   ]
  },
  {
   "cell_type": "code",
   "execution_count": 8,
   "metadata": {},
   "outputs": [
    {
     "name": "stdout",
     "output_type": "stream",
     "text": [
      "ChatCompletion(id='chatcmpl-A70ca2ADoIWdGRt1o1fAULOlkdE0Z', choices=[Choice(finish_reason='stop', index=0, logprobs=None, message=ChatCompletionMessage(content='90', refusal=None, role='assistant', function_call=None, tool_calls=None))], created=1726234048, model='gpt-4-0613', object='chat.completion', service_tier=None, system_fingerprint=None, usage=CompletionUsage(completion_tokens=1, prompt_tokens=760, total_tokens=761, completion_tokens_details={'reasoning_tokens': 0}))\n"
     ]
    }
   ],
   "source": [
    "print(m)"
   ]
  },
  {
   "cell_type": "code",
   "execution_count": 9,
   "metadata": {},
   "outputs": [
    {
     "data": {
      "text/plain": [
       "'90'"
      ]
     },
     "execution_count": 9,
     "metadata": {},
     "output_type": "execute_result"
    }
   ],
   "source": [
    "m.choices[0].message.content"
   ]
  },
  {
   "cell_type": "code",
   "execution_count": 1,
   "metadata": {},
   "outputs": [],
   "source": [
    "from db_operations import fetch_data,get_db_connection"
   ]
  },
  {
   "cell_type": "code",
   "execution_count": 2,
   "metadata": {},
   "outputs": [],
   "source": [
    "data = fetch_data()"
   ]
  },
  {
   "cell_type": "code",
   "execution_count": 3,
   "metadata": {},
   "outputs": [
    {
     "data": {
      "text/html": [
       "<div>\n",
       "<style scoped>\n",
       "    .dataframe tbody tr th:only-of-type {\n",
       "        vertical-align: middle;\n",
       "    }\n",
       "\n",
       "    .dataframe tbody tr th {\n",
       "        vertical-align: top;\n",
       "    }\n",
       "\n",
       "    .dataframe thead th {\n",
       "        text-align: right;\n",
       "    }\n",
       "</style>\n",
       "<table border=\"1\" class=\"dataframe\">\n",
       "  <thead>\n",
       "    <tr style=\"text-align: right;\">\n",
       "      <th></th>\n",
       "      <th>id</th>\n",
       "      <th>name</th>\n",
       "      <th>email</th>\n",
       "      <th>phone_number</th>\n",
       "      <th>picture</th>\n",
       "      <th>conversation</th>\n",
       "      <th>resume_path</th>\n",
       "      <th>score</th>\n",
       "    </tr>\n",
       "  </thead>\n",
       "  <tbody>\n",
       "    <tr>\n",
       "      <th>0</th>\n",
       "      <td>2</td>\n",
       "      <td>ravish</td>\n",
       "      <td>jp@jk.com</td>\n",
       "      <td>551</td>\n",
       "      <td>images\\ravish-551.png</td>\n",
       "      <td>Q1. What is your expected salary range?\\nAnswe...</td>\n",
       "      <td>uploads/ravish_resume.pdf</td>\n",
       "      <td>70</td>\n",
       "    </tr>\n",
       "    <tr>\n",
       "      <th>1</th>\n",
       "      <td>6</td>\n",
       "      <td>Ravish Kumar</td>\n",
       "      <td>ravishk0409@gmail.com</td>\n",
       "      <td>09818921487</td>\n",
       "      <td>images\\Ravish Kumar-0981.png</td>\n",
       "      <td>Q1. What is your expected salary range?\\nAnswe...</td>\n",
       "      <td>uploads/ravish_resume.pdf</td>\n",
       "      <td>70</td>\n",
       "    </tr>\n",
       "    <tr>\n",
       "      <th>2</th>\n",
       "      <td>3</td>\n",
       "      <td>vdvv</td>\n",
       "      <td>vfs</td>\n",
       "      <td>rav</td>\n",
       "      <td>images\\vdvv-rav.png</td>\n",
       "      <td>QWhat is your expected salary range?\\nAnswer: ...</td>\n",
       "      <td>uploads/ravish_resume.pdf</td>\n",
       "      <td>42</td>\n",
       "    </tr>\n",
       "    <tr>\n",
       "      <th>3</th>\n",
       "      <td>4</td>\n",
       "      <td>rakesh</td>\n",
       "      <td>rav</td>\n",
       "      <td>ggbb</td>\n",
       "      <td>images\\rakesh-ggbb.png</td>\n",
       "      <td>QWhat is your expected salary range?\\nAnswer: ...</td>\n",
       "      <td>uploads/Resume-rakesh.pdf</td>\n",
       "      <td>42</td>\n",
       "    </tr>\n",
       "    <tr>\n",
       "      <th>4</th>\n",
       "      <td>5</td>\n",
       "      <td>bhav</td>\n",
       "      <td>fff</td>\n",
       "      <td>556</td>\n",
       "      <td>images\\bhav-556.png</td>\n",
       "      <td>QWhat is your expected salary range?\\nAnswer: ...</td>\n",
       "      <td>uploads/resume.pdf</td>\n",
       "      <td>42</td>\n",
       "    </tr>\n",
       "    <tr>\n",
       "      <th>5</th>\n",
       "      <td>7</td>\n",
       "      <td>tata</td>\n",
       "      <td>hj@kl.com</td>\n",
       "      <td>5741</td>\n",
       "      <td>images\\tata-5741.png</td>\n",
       "      <td>Q1. What is your expected salary range?\\nAnswe...</td>\n",
       "      <td>uploads/resume.pdf</td>\n",
       "      <td>30</td>\n",
       "    </tr>\n",
       "    <tr>\n",
       "      <th>6</th>\n",
       "      <td>8</td>\n",
       "      <td>rag</td>\n",
       "      <td>jajgg@hjbsnb</td>\n",
       "      <td>6455</td>\n",
       "      <td>images\\rag-6455.png</td>\n",
       "      <td>Q1. What is your expected salary range?\\nAnswe...</td>\n",
       "      <td>uploads/Resume-rakesh.pdf</td>\n",
       "      <td>26</td>\n",
       "    </tr>\n",
       "    <tr>\n",
       "      <th>7</th>\n",
       "      <td>9</td>\n",
       "      <td>ghfgh</td>\n",
       "      <td>353451</td>\n",
       "      <td>35324512</td>\n",
       "      <td>images\\ghfgh-3532.png</td>\n",
       "      <td>QWhat is your expected salary range?\\nAnswer: ...</td>\n",
       "      <td>uploads/Resume-rakesh.pdf</td>\n",
       "      <td>21</td>\n",
       "    </tr>\n",
       "    <tr>\n",
       "      <th>8</th>\n",
       "      <td>10</td>\n",
       "      <td>rakesh</td>\n",
       "      <td>qty@mk.com</td>\n",
       "      <td>7825893145</td>\n",
       "      <td>images\\rakesh-7825.png</td>\n",
       "      <td>QWhat is your expected salary range?\\nAnswer: ...</td>\n",
       "      <td>uploads/Resume-rakesh.pdf</td>\n",
       "      <td>16</td>\n",
       "    </tr>\n",
       "    <tr>\n",
       "      <th>9</th>\n",
       "      <td>1</td>\n",
       "      <td>ravish</td>\n",
       "      <td>rav</td>\n",
       "      <td>fsv</td>\n",
       "      <td>images\\ravish-fsv.png</td>\n",
       "      <td>What is your expected salary range?\\n5\\nCan yo...</td>\n",
       "      <td>uploads/ravish_resume.pdf</td>\n",
       "      <td>0</td>\n",
       "    </tr>\n",
       "  </tbody>\n",
       "</table>\n",
       "</div>"
      ],
      "text/plain": [
       "   id          name                  email phone_number  \\\n",
       "0   2        ravish              jp@jk.com          551   \n",
       "1   6  Ravish Kumar  ravishk0409@gmail.com  09818921487   \n",
       "2   3          vdvv                    vfs          rav   \n",
       "3   4        rakesh                    rav         ggbb   \n",
       "4   5          bhav                    fff          556   \n",
       "5   7          tata              hj@kl.com         5741   \n",
       "6   8           rag           jajgg@hjbsnb         6455   \n",
       "7   9         ghfgh                 353451     35324512   \n",
       "8  10        rakesh             qty@mk.com   7825893145   \n",
       "9   1        ravish                    rav          fsv   \n",
       "\n",
       "                        picture  \\\n",
       "0         images\\ravish-551.png   \n",
       "1  images\\Ravish Kumar-0981.png   \n",
       "2           images\\vdvv-rav.png   \n",
       "3        images\\rakesh-ggbb.png   \n",
       "4           images\\bhav-556.png   \n",
       "5          images\\tata-5741.png   \n",
       "6           images\\rag-6455.png   \n",
       "7         images\\ghfgh-3532.png   \n",
       "8        images\\rakesh-7825.png   \n",
       "9         images\\ravish-fsv.png   \n",
       "\n",
       "                                        conversation  \\\n",
       "0  Q1. What is your expected salary range?\\nAnswe...   \n",
       "1  Q1. What is your expected salary range?\\nAnswe...   \n",
       "2  QWhat is your expected salary range?\\nAnswer: ...   \n",
       "3  QWhat is your expected salary range?\\nAnswer: ...   \n",
       "4  QWhat is your expected salary range?\\nAnswer: ...   \n",
       "5  Q1. What is your expected salary range?\\nAnswe...   \n",
       "6  Q1. What is your expected salary range?\\nAnswe...   \n",
       "7  QWhat is your expected salary range?\\nAnswer: ...   \n",
       "8  QWhat is your expected salary range?\\nAnswer: ...   \n",
       "9  What is your expected salary range?\\n5\\nCan yo...   \n",
       "\n",
       "                 resume_path  score  \n",
       "0  uploads/ravish_resume.pdf     70  \n",
       "1  uploads/ravish_resume.pdf     70  \n",
       "2  uploads/ravish_resume.pdf     42  \n",
       "3  uploads/Resume-rakesh.pdf     42  \n",
       "4         uploads/resume.pdf     42  \n",
       "5         uploads/resume.pdf     30  \n",
       "6  uploads/Resume-rakesh.pdf     26  \n",
       "7  uploads/Resume-rakesh.pdf     21  \n",
       "8  uploads/Resume-rakesh.pdf     16  \n",
       "9  uploads/ravish_resume.pdf      0  "
      ]
     },
     "execution_count": 3,
     "metadata": {},
     "output_type": "execute_result"
    }
   ],
   "source": [
    "data"
   ]
  },
  {
   "cell_type": "code",
   "execution_count": 72,
   "metadata": {},
   "outputs": [
    {
     "name": "stdout",
     "output_type": "stream",
     "text": [
      "bhav ff is present\n"
     ]
    }
   ],
   "source": [
    "if data.loc[(data['name']=='bhav') & (data['email']=='fff')].size:\n",
    "    print(\"bhav ff is present\")\n"
   ]
  },
  {
   "cell_type": "code",
   "execution_count": 26,
   "metadata": {},
   "outputs": [
    {
     "name": "stdout",
     "output_type": "stream",
     "text": [
      "(2, 'ravish')\n",
      "(1, 'ravish')\n"
     ]
    }
   ],
   "source": [
    "for i,y in (data[['id','name']].values):\n",
    "    print((i,y))"
   ]
  },
  {
   "cell_type": "code",
   "execution_count": 7,
   "metadata": {},
   "outputs": [
    {
     "name": "stdout",
     "output_type": "stream",
     "text": [
      "2. ravish\n",
      "3. vdvv\n",
      "4. rakesh\n",
      "5. bhav\n",
      "1. ravish\n"
     ]
    }
   ],
   "source": [
    "for i,v in zip(data['id'],data['name']):\n",
    "    print(f'{i}. {v}')"
   ]
  },
  {
   "cell_type": "code",
   "execution_count": 50,
   "metadata": {},
   "outputs": [
    {
     "data": {
      "text/plain": [
       "array([[9, 'ghfgh', '353451', '35324512', 'images\\\\ghfgh-3532.png',\n",
       "        \"QWhat is your expected salary range?\\nAnswer: 54\\nQCan you share your date of birth?\\nAnswer: 212\\nQDo you have experience in [skill from job posting]?\\nAnswer: 5522121\\nQWhat are your preferred work hours?\\nAnswer: 51120\\nQCan you tell us about a challenging project you've worked on?\\nAnswer: 5212\\n\",\n",
       "        'uploads/Resume-rakesh.pdf', 21]], dtype=object)"
      ]
     },
     "execution_count": 50,
     "metadata": {},
     "output_type": "execute_result"
    }
   ],
   "source": [
    "data[data['id']==9].values"
   ]
  },
  {
   "cell_type": "code",
   "execution_count": 6,
   "metadata": {},
   "outputs": [
    {
     "data": {
      "text/plain": [
       "['0. rav', '1. anuj', '2. alok']"
      ]
     },
     "execution_count": 6,
     "metadata": {},
     "output_type": "execute_result"
    }
   ],
   "source": [
    "p=['rav','anuj','alok']\n",
    "f=lambda x: [f'{i}. {v}' for i,v in enumerate(p)]\n",
    "f(p)"
   ]
  },
  {
   "cell_type": "code",
   "execution_count": 48,
   "metadata": {},
   "outputs": [],
   "source": [
    "values=data[data['id']==9].values"
   ]
  },
  {
   "cell_type": "code",
   "execution_count": 56,
   "metadata": {},
   "outputs": [],
   "source": [
    "values[0][0]=11"
   ]
  },
  {
   "cell_type": "code",
   "execution_count": 57,
   "metadata": {},
   "outputs": [
    {
     "data": {
      "text/plain": [
       "'?, ?, ?, ?, ?, ?, ?, ?'"
      ]
     },
     "execution_count": 57,
     "metadata": {},
     "output_type": "execute_result"
    }
   ],
   "source": [
    "conn = get_db_connection()\n",
    "cursor = conn.cursor()\n",
    "columns_str=', '.join(data.columns) \n",
    "placeholders=', '.join(['?' for _ in values[0]])\n",
    "placeholders\n"
   ]
  },
  {
   "cell_type": "code",
   "execution_count": 58,
   "metadata": {},
   "outputs": [
    {
     "data": {
      "text/plain": [
       "array([[11, 'ghfgh', '353451', '35324512', 'images\\\\ghfgh-3532.png',\n",
       "        \"QWhat is your expected salary range?\\nAnswer: 54\\nQCan you share your date of birth?\\nAnswer: 212\\nQDo you have experience in [skill from job posting]?\\nAnswer: 5522121\\nQWhat are your preferred work hours?\\nAnswer: 51120\\nQCan you tell us about a challenging project you've worked on?\\nAnswer: 5212\\n\",\n",
       "        'uploads/Resume-rakesh.pdf', 21]], dtype=object)"
      ]
     },
     "execution_count": 58,
     "metadata": {},
     "output_type": "execute_result"
    }
   ],
   "source": [
    "values"
   ]
  },
  {
   "cell_type": "code",
   "execution_count": 59,
   "metadata": {},
   "outputs": [],
   "source": [
    "query = f\"INSERT INTO users ({columns_str}) VALUES ({placeholders})\""
   ]
  },
  {
   "cell_type": "code",
   "execution_count": 60,
   "metadata": {},
   "outputs": [
    {
     "ename": "ProgrammingError",
     "evalue": "Incorrect number of bindings supplied. The current statement uses 8, and there are 1 supplied.",
     "output_type": "error",
     "traceback": [
      "\u001b[1;31m---------------------------------------------------------------------------\u001b[0m",
      "\u001b[1;31mProgrammingError\u001b[0m                          Traceback (most recent call last)",
      "Cell \u001b[1;32mIn[60], line 1\u001b[0m\n\u001b[1;32m----> 1\u001b[0m \u001b[43mcursor\u001b[49m\u001b[38;5;241;43m.\u001b[39;49m\u001b[43mexecute\u001b[49m\u001b[43m(\u001b[49m\u001b[43mquery\u001b[49m\u001b[43m,\u001b[49m\u001b[43m \u001b[49m\u001b[43mvalues\u001b[49m\u001b[43m)\u001b[49m\n\u001b[0;32m      2\u001b[0m conn\u001b[38;5;241m.\u001b[39mcommit()\n\u001b[0;32m      3\u001b[0m \u001b[38;5;28mprint\u001b[39m(\u001b[38;5;124mf\u001b[39m\u001b[38;5;124m\"\u001b[39m\u001b[38;5;124mData inserted into users successfully.\u001b[39m\u001b[38;5;124m\"\u001b[39m)\n",
      "\u001b[1;31mProgrammingError\u001b[0m: Incorrect number of bindings supplied. The current statement uses 8, and there are 1 supplied."
     ]
    }
   ],
   "source": [
    "cursor.execute(query, values)\n",
    "conn.commit()\n",
    "print(f\"Data inserted into users successfully.\")"
   ]
  },
  {
   "cell_type": "code",
   "execution_count": 5,
   "metadata": {},
   "outputs": [],
   "source": [
    "os.environ['NEW_VARIABLE'] = 'value'"
   ]
  },
  {
   "cell_type": "code",
   "execution_count": 5,
   "metadata": {},
   "outputs": [],
   "source": [
    "m=os.getenv(\"token\")"
   ]
  },
  {
   "cell_type": "code",
   "execution_count": 6,
   "metadata": {},
   "outputs": [
    {
     "data": {
      "text/plain": [
       "['%token%', 'uploads/job.docx']"
      ]
     },
     "execution_count": 6,
     "metadata": {},
     "output_type": "execute_result"
    }
   ],
   "source": [
    "m.split('-')"
   ]
  },
  {
   "cell_type": "code",
   "execution_count": 12,
   "metadata": {},
   "outputs": [],
   "source": [
    "from db_operations import get_db_connection,fetch_data, update_score, create_database, add_data,add_recruiter,create_recruiter_database,fetch_recruiter_data,create_job_database,add_job,fetch_job_data"
   ]
  },
  {
   "cell_type": "code",
   "execution_count": null,
   "metadata": {},
   "outputs": [],
   "source": [
    "add_job('rav',('data science',\"baaalajaj\",'token/455'))"
   ]
  },
  {
   "cell_type": "code",
   "execution_count": 2,
   "metadata": {},
   "outputs": [],
   "source": [
    "data=fetch_job_data('rav')"
   ]
  },
  {
   "cell_type": "code",
   "execution_count": 3,
   "metadata": {},
   "outputs": [
    {
     "data": {
      "text/html": [
       "<div>\n",
       "<style scoped>\n",
       "    .dataframe tbody tr th:only-of-type {\n",
       "        vertical-align: middle;\n",
       "    }\n",
       "\n",
       "    .dataframe tbody tr th {\n",
       "        vertical-align: top;\n",
       "    }\n",
       "\n",
       "    .dataframe thead th {\n",
       "        text-align: right;\n",
       "    }\n",
       "</style>\n",
       "<table border=\"1\" class=\"dataframe\">\n",
       "  <thead>\n",
       "    <tr style=\"text-align: right;\">\n",
       "      <th></th>\n",
       "      <th>id</th>\n",
       "      <th>job</th>\n",
       "      <th>description</th>\n",
       "      <th>token</th>\n",
       "    </tr>\n",
       "  </thead>\n",
       "  <tbody>\n",
       "  </tbody>\n",
       "</table>\n",
       "</div>"
      ],
      "text/plain": [
       "Empty DataFrame\n",
       "Columns: [id, job, description, token]\n",
       "Index: []"
      ]
     },
     "execution_count": 3,
     "metadata": {},
     "output_type": "execute_result"
    }
   ],
   "source": [
    "data"
   ]
  },
  {
   "cell_type": "code",
   "execution_count": 8,
   "metadata": {},
   "outputs": [
    {
     "data": {
      "text/html": [
       "<div>\n",
       "<style scoped>\n",
       "    .dataframe tbody tr th:only-of-type {\n",
       "        vertical-align: middle;\n",
       "    }\n",
       "\n",
       "    .dataframe tbody tr th {\n",
       "        vertical-align: top;\n",
       "    }\n",
       "\n",
       "    .dataframe thead th {\n",
       "        text-align: right;\n",
       "    }\n",
       "</style>\n",
       "<table border=\"1\" class=\"dataframe\">\n",
       "  <thead>\n",
       "    <tr style=\"text-align: right;\">\n",
       "      <th></th>\n",
       "      <th>id</th>\n",
       "      <th>job</th>\n",
       "      <th>description</th>\n",
       "      <th>token</th>\n",
       "    </tr>\n",
       "  </thead>\n",
       "  <tbody>\n",
       "  </tbody>\n",
       "</table>\n",
       "</div>"
      ],
      "text/plain": [
       "Empty DataFrame\n",
       "Columns: [id, job, description, token]\n",
       "Index: []"
      ]
     },
     "execution_count": 8,
     "metadata": {},
     "output_type": "execute_result"
    }
   ],
   "source": [
    "data.loc[data['job']=='python']"
   ]
  },
  {
   "cell_type": "code",
   "execution_count": 74,
   "metadata": {},
   "outputs": [],
   "source": [
    "data=fetch_recruiter_data()"
   ]
  },
  {
   "cell_type": "code",
   "execution_count": 80,
   "metadata": {},
   "outputs": [
    {
     "data": {
      "text/plain": [
       "False"
      ]
     },
     "execution_count": 80,
     "metadata": {},
     "output_type": "execute_result"
    }
   ],
   "source": [
    "'rav' in data[['username']]"
   ]
  },
  {
   "cell_type": "code",
   "execution_count": 81,
   "metadata": {},
   "outputs": [
    {
     "name": "stdout",
     "output_type": "stream",
     "text": [
      "(54, 66, 6, 6)\n"
     ]
    }
   ],
   "source": [
    "def all(*arg):\n",
    "    print(arg)\n",
    "all(54,66,6,6)"
   ]
  },
  {
   "cell_type": "code",
   "execution_count": 15,
   "metadata": {},
   "outputs": [],
   "source": [
    "from db_operations import fetch_job_data,create_database"
   ]
  },
  {
   "cell_type": "code",
   "execution_count": 30,
   "metadata": {},
   "outputs": [],
   "source": [
    "try:\n",
    "    data=fetch_job_data('rav')\n",
    "except:\n",
    "    print('Error fetching data')\n"
   ]
  },
  {
   "cell_type": "code",
   "execution_count": 38,
   "metadata": {},
   "outputs": [
    {
     "ename": "InvalidIndexError",
     "evalue": "(0    False\n1     True\n2    False\n3    False\n4    False\nName: id, dtype: bool, 'description')",
     "output_type": "error",
     "traceback": [
      "\u001b[1;31m---------------------------------------------------------------------------\u001b[0m",
      "\u001b[1;31mTypeError\u001b[0m                                 Traceback (most recent call last)",
      "File \u001b[1;32mc:\\Users\\rav\\OneDrive\\Desktop\\gen-ai\\.venv\\Lib\\site-packages\\pandas\\core\\indexes\\base.py:3805\u001b[0m, in \u001b[0;36mIndex.get_loc\u001b[1;34m(self, key)\u001b[0m\n\u001b[0;32m   3804\u001b[0m \u001b[38;5;28;01mtry\u001b[39;00m:\n\u001b[1;32m-> 3805\u001b[0m     \u001b[38;5;28;01mreturn\u001b[39;00m \u001b[38;5;28;43mself\u001b[39;49m\u001b[38;5;241;43m.\u001b[39;49m\u001b[43m_engine\u001b[49m\u001b[38;5;241;43m.\u001b[39;49m\u001b[43mget_loc\u001b[49m\u001b[43m(\u001b[49m\u001b[43mcasted_key\u001b[49m\u001b[43m)\u001b[49m\n\u001b[0;32m   3806\u001b[0m \u001b[38;5;28;01mexcept\u001b[39;00m \u001b[38;5;167;01mKeyError\u001b[39;00m \u001b[38;5;28;01mas\u001b[39;00m err:\n",
      "File \u001b[1;32mindex.pyx:167\u001b[0m, in \u001b[0;36mpandas._libs.index.IndexEngine.get_loc\u001b[1;34m()\u001b[0m\n",
      "File \u001b[1;32mindex.pyx:173\u001b[0m, in \u001b[0;36mpandas._libs.index.IndexEngine.get_loc\u001b[1;34m()\u001b[0m\n",
      "\u001b[1;31mTypeError\u001b[0m: '(0    False\n1     True\n2    False\n3    False\n4    False\nName: id, dtype: bool, 'description')' is an invalid key",
      "\nDuring handling of the above exception, another exception occurred:\n",
      "\u001b[1;31mInvalidIndexError\u001b[0m                         Traceback (most recent call last)",
      "Cell \u001b[1;32mIn[38], line 1\u001b[0m\n\u001b[1;32m----> 1\u001b[0m \u001b[43mdata\u001b[49m\u001b[43m[\u001b[49m\u001b[43mdata\u001b[49m\u001b[43m[\u001b[49m\u001b[38;5;124;43m'\u001b[39;49m\u001b[38;5;124;43mid\u001b[39;49m\u001b[38;5;124;43m'\u001b[39;49m\u001b[43m]\u001b[49m\u001b[38;5;241;43m==\u001b[39;49m\u001b[38;5;241;43m2\u001b[39;49m\u001b[43m,\u001b[49m\u001b[38;5;124;43m'\u001b[39;49m\u001b[38;5;124;43mdescription\u001b[39;49m\u001b[38;5;124;43m'\u001b[39;49m\u001b[43m]\u001b[49m\n",
      "File \u001b[1;32mc:\\Users\\rav\\OneDrive\\Desktop\\gen-ai\\.venv\\Lib\\site-packages\\pandas\\core\\frame.py:4102\u001b[0m, in \u001b[0;36mDataFrame.__getitem__\u001b[1;34m(self, key)\u001b[0m\n\u001b[0;32m   4100\u001b[0m \u001b[38;5;28;01mif\u001b[39;00m \u001b[38;5;28mself\u001b[39m\u001b[38;5;241m.\u001b[39mcolumns\u001b[38;5;241m.\u001b[39mnlevels \u001b[38;5;241m>\u001b[39m \u001b[38;5;241m1\u001b[39m:\n\u001b[0;32m   4101\u001b[0m     \u001b[38;5;28;01mreturn\u001b[39;00m \u001b[38;5;28mself\u001b[39m\u001b[38;5;241m.\u001b[39m_getitem_multilevel(key)\n\u001b[1;32m-> 4102\u001b[0m indexer \u001b[38;5;241m=\u001b[39m \u001b[38;5;28;43mself\u001b[39;49m\u001b[38;5;241;43m.\u001b[39;49m\u001b[43mcolumns\u001b[49m\u001b[38;5;241;43m.\u001b[39;49m\u001b[43mget_loc\u001b[49m\u001b[43m(\u001b[49m\u001b[43mkey\u001b[49m\u001b[43m)\u001b[49m\n\u001b[0;32m   4103\u001b[0m \u001b[38;5;28;01mif\u001b[39;00m is_integer(indexer):\n\u001b[0;32m   4104\u001b[0m     indexer \u001b[38;5;241m=\u001b[39m [indexer]\n",
      "File \u001b[1;32mc:\\Users\\rav\\OneDrive\\Desktop\\gen-ai\\.venv\\Lib\\site-packages\\pandas\\core\\indexes\\base.py:3817\u001b[0m, in \u001b[0;36mIndex.get_loc\u001b[1;34m(self, key)\u001b[0m\n\u001b[0;32m   3812\u001b[0m     \u001b[38;5;28;01mraise\u001b[39;00m \u001b[38;5;167;01mKeyError\u001b[39;00m(key) \u001b[38;5;28;01mfrom\u001b[39;00m \u001b[38;5;21;01merr\u001b[39;00m\n\u001b[0;32m   3813\u001b[0m \u001b[38;5;28;01mexcept\u001b[39;00m \u001b[38;5;167;01mTypeError\u001b[39;00m:\n\u001b[0;32m   3814\u001b[0m     \u001b[38;5;66;03m# If we have a listlike key, _check_indexing_error will raise\u001b[39;00m\n\u001b[0;32m   3815\u001b[0m     \u001b[38;5;66;03m#  InvalidIndexError. Otherwise we fall through and re-raise\u001b[39;00m\n\u001b[0;32m   3816\u001b[0m     \u001b[38;5;66;03m#  the TypeError.\u001b[39;00m\n\u001b[1;32m-> 3817\u001b[0m     \u001b[38;5;28;43mself\u001b[39;49m\u001b[38;5;241;43m.\u001b[39;49m\u001b[43m_check_indexing_error\u001b[49m\u001b[43m(\u001b[49m\u001b[43mkey\u001b[49m\u001b[43m)\u001b[49m\n\u001b[0;32m   3818\u001b[0m     \u001b[38;5;28;01mraise\u001b[39;00m\n",
      "File \u001b[1;32mc:\\Users\\rav\\OneDrive\\Desktop\\gen-ai\\.venv\\Lib\\site-packages\\pandas\\core\\indexes\\base.py:6059\u001b[0m, in \u001b[0;36mIndex._check_indexing_error\u001b[1;34m(self, key)\u001b[0m\n\u001b[0;32m   6055\u001b[0m \u001b[38;5;28;01mdef\u001b[39;00m \u001b[38;5;21m_check_indexing_error\u001b[39m(\u001b[38;5;28mself\u001b[39m, key):\n\u001b[0;32m   6056\u001b[0m     \u001b[38;5;28;01mif\u001b[39;00m \u001b[38;5;129;01mnot\u001b[39;00m is_scalar(key):\n\u001b[0;32m   6057\u001b[0m         \u001b[38;5;66;03m# if key is not a scalar, directly raise an error (the code below\u001b[39;00m\n\u001b[0;32m   6058\u001b[0m         \u001b[38;5;66;03m# would convert to numpy arrays and raise later any way) - GH29926\u001b[39;00m\n\u001b[1;32m-> 6059\u001b[0m         \u001b[38;5;28;01mraise\u001b[39;00m InvalidIndexError(key)\n",
      "\u001b[1;31mInvalidIndexError\u001b[0m: (0    False\n1     True\n2    False\n3    False\n4    False\nName: id, dtype: bool, 'description')"
     ]
    }
   ],
   "source": [
    "data.loc[data['id']==2,'description']"
   ]
  },
  {
   "cell_type": "code",
   "execution_count": 12,
   "metadata": {},
   "outputs": [
    {
     "name": "stdout",
     "output_type": "stream",
     "text": [
      "Error fetching data\n"
     ]
    }
   ],
   "source": [
    "try:\n",
    "    data=fetch_job_data('ra')\n",
    "except:\n",
    "    print('Error fetching data')"
   ]
  },
  {
   "cell_type": "code",
   "execution_count": 11,
   "metadata": {},
   "outputs": [],
   "source": [
    "data=4"
   ]
  },
  {
   "cell_type": "code",
   "execution_count": 23,
   "metadata": {},
   "outputs": [
    {
     "ename": "OperationalError",
     "evalue": "near \"jnnk\": syntax error",
     "output_type": "error",
     "traceback": [
      "\u001b[1;31m---------------------------------------------------------------------------\u001b[0m",
      "\u001b[1;31mOperationalError\u001b[0m                          Traceback (most recent call last)",
      "Cell \u001b[1;32mIn[23], line 1\u001b[0m\n\u001b[1;32m----> 1\u001b[0m \u001b[43mcreate_database\u001b[49m\u001b[43m(\u001b[49m\u001b[38;5;124;43m\"\u001b[39;49m\u001b[38;5;124;43mtoken7report jnnk\u001b[39;49m\u001b[38;5;124;43m\"\u001b[39;49m\u001b[43m)\u001b[49m\n",
      "File \u001b[1;32mc:\\Users\\rav\\OneDrive\\Desktop\\gen-ai\\db_operations.py:124\u001b[0m, in \u001b[0;36mcreate_database\u001b[1;34m(job)\u001b[0m\n\u001b[0;32m    121\u001b[0m cursor \u001b[38;5;241m=\u001b[39m conn\u001b[38;5;241m.\u001b[39mcursor()\n\u001b[0;32m    123\u001b[0m \u001b[38;5;66;03m# Create a table called \"users\"\u001b[39;00m\n\u001b[1;32m--> 124\u001b[0m m\u001b[38;5;241m=\u001b[39m\u001b[38;5;124mf\u001b[39m\u001b[38;5;124m'''\u001b[39m\n\u001b[0;32m    125\u001b[0m \u001b[38;5;124mCREATE TABLE IF NOT EXISTS \u001b[39m\u001b[38;5;132;01m{\u001b[39;00mtoken\u001b[38;5;132;01m}\u001b[39;00m\u001b[38;5;124m (\u001b[39m\n\u001b[0;32m    126\u001b[0m \u001b[38;5;124m    id INTEGER PRIMARY KEY AUTOINCREMENT,\u001b[39m\n\u001b[0;32m    127\u001b[0m \u001b[38;5;124m    name TEXT ,\u001b[39m\n\u001b[0;32m    128\u001b[0m \u001b[38;5;124m    email TEXT ,\u001b[39m\n\u001b[0;32m    129\u001b[0m \u001b[38;5;124m    phone_number TEXT,\u001b[39m\n\u001b[0;32m    130\u001b[0m \u001b[38;5;124m    picture TEXT,\u001b[39m\n\u001b[0;32m    131\u001b[0m \u001b[38;5;124m    conversation TEXT,\u001b[39m\n\u001b[0;32m    132\u001b[0m \u001b[38;5;124m    resume_path TEXT,\u001b[39m\n\u001b[0;32m    133\u001b[0m \u001b[38;5;124m    score INTEGER \u001b[39m\n\u001b[0;32m    134\u001b[0m \u001b[38;5;124m)\u001b[39m\n\u001b[0;32m    135\u001b[0m \u001b[38;5;124m\u001b[39m\u001b[38;5;124m'''\u001b[39m\n\u001b[0;32m    136\u001b[0m cursor\u001b[38;5;241m.\u001b[39mexecute(m)\n\u001b[0;32m    138\u001b[0m conn\u001b[38;5;241m.\u001b[39mcommit()\n",
      "\u001b[1;31mOperationalError\u001b[0m: near \"jnnk\": syntax error"
     ]
    }
   ],
   "source": [
    "create_database(\"token7report jnnk\")"
   ]
  }
 ],
 "metadata": {
  "kernelspec": {
   "display_name": "Python 3",
   "language": "python",
   "name": "python3"
  },
  "language_info": {
   "codemirror_mode": {
    "name": "ipython",
    "version": 3
   },
   "file_extension": ".py",
   "mimetype": "text/x-python",
   "name": "python",
   "nbconvert_exporter": "python",
   "pygments_lexer": "ipython3",
   "version": "3.11.9"
  }
 },
 "nbformat": 4,
 "nbformat_minor": 2
}
